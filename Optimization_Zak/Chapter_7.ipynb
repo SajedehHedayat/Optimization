{
  "nbformat": 4,
  "nbformat_minor": 0,
  "metadata": {
    "colab": {
      "provenance": []
    },
    "kernelspec": {
      "name": "python3",
      "display_name": "Python 3"
    },
    "language_info": {
      "name": "python"
    }
  },
  "cells": [
    {
      "cell_type": "code",
      "execution_count": 1,
      "metadata": {
        "id": "dOkS-Ptd0MPQ"
      },
      "outputs": [],
      "source": [
        "import numpy as np\n",
        "import matplotlib.pyplot as plt\n",
        "from sympy import *"
      ]
    },
    {
      "cell_type": "code",
      "source": [
        "x = Symbol('x')\n",
        "x1 = np.arange(1,2,0.01)\n",
        "f = 8*exp(1-x)+7*log(x)"
      ],
      "metadata": {
        "id": "9BkKI-kbQelW"
      },
      "execution_count": 2,
      "outputs": []
    },
    {
      "cell_type": "code",
      "source": [
        "f1=lambdify(x,f)\n",
        "f2 = f1(x1)"
      ],
      "metadata": {
        "id": "1y1k9jX8Spfj"
      },
      "execution_count": 3,
      "outputs": []
    },
    {
      "cell_type": "code",
      "source": [
        "plt.plot(x1,f2)\n",
        "plt.xlabel('x')\n",
        "plt.ylabel('f(x)')"
      ],
      "metadata": {
        "colab": {
          "base_uri": "https://localhost:8080/",
          "height": 467
        },
        "id": "B_P5vN5n43CN",
        "outputId": "2412dcaa-f9f9-4b80-8d31-a57f06aa135f"
      },
      "execution_count": 4,
      "outputs": [
        {
          "output_type": "execute_result",
          "data": {
            "text/plain": [
              "Text(0, 0.5, 'f(x)')"
            ]
          },
          "metadata": {},
          "execution_count": 4
        },
        {
          "output_type": "display_data",
          "data": {
            "text/plain": [
              "<Figure size 640x480 with 1 Axes>"
            ],
            "image/png": "[encoded data removed]"
          },
          "metadata": {}
        }
      ]
    },
    {
      "cell_type": "markdown",
      "source": [
        "Golden Section Search"
      ],
      "metadata": {
        "id": "-1ebHIS38a-i"
      }
    },
    {
      "cell_type": "code",
      "source": [
        "rho = (3-sqrt(5))/2\n",
        "a = np.zeros(5)\n",
        "b = np.zeros(5)\n",
        "a[0] = 1\n",
        "b[0] = 2\n",
        "uncert = 0.23\n",
        "N=np.ceil(log(uncert/((b[0]-a[0])))/log(1-rho))\n",
        "print('i' ,2*'\\t', 'a[i]' , 2*'\\t' , 'fa' , 3*'\\t' , 'b[i]' , 4*'\\t' , 'fb')\n",
        "\n",
        "for i in range(1,N+1):\n",
        "  a[i] = a[i-1] + rho*(b[i-1] - a[i-1])\n",
        "  b[i] = a[i-1] + (1-rho)*(b[i-1] - a[i-1])\n",
        "  fa = f1(a[i-1])\n",
        "  fb = f1(b[i-1])\n",
        "  if fa < fb :\n",
        "    b[i-1] = b[i]\n",
        "    a[i] = a[i-1]\n",
        "  else :\n",
        "    b[i] = b[i-1]\n",
        "    a[i-1] = a[i]\n",
        "\n",
        "  print(i , '\\t' , a[i-1] , '\\t' , fa , '\\t' , b[i-1] , '\\t' , fb)\n",
        "\n",
        "print(f'travel : [{a[i-1]} , {b[i-1]}]')\n"
      ],
      "metadata": {
        "colab": {
          "base_uri": "https://localhost:8080/"
        },
        "id": "o0F6kkHvn8AW",
        "outputId": "eebcc740-56be-41aa-ec1d-34053d0e2789"
      },
      "execution_count": 5,
      "outputs": [
        {
          "output_type": "stream",
          "name": "stdout",
          "text": [
            "i \t\t a[i] \t\t fa \t\t\t b[i] \t\t\t\t fb\n",
            "1 \t 1.381966011250105 \t 8.0 \t 2.0 \t 7.795065793291156\n",
            "2 \t 1.381966011250105 \t 7.724695924128396 \t 1.7639320225002102 \t 7.795065793291156\n",
            "3 \t 1.5278640450004206 \t 7.724695924128396 \t 1.7639320225002102 \t 7.699467246801767\n",
            "4 \t 1.5278640450004206 \t 7.686003353484317 \t 1.6737620787507361 \t 7.699467246801767\n",
            "travel : [1.5278640450004206 , 1.6737620787507361]\n"
          ]
        }
      ]
    },
    {
      "cell_type": "markdown",
      "source": [
        "Fibonacci"
      ],
      "metadata": {
        "id": "xHTTWPEqx02U"
      }
    },
    {
      "cell_type": "code",
      "source": [
        "def fibo(n):\n",
        "    if n<0:\n",
        "        print(\"Incorrect input\")\n",
        "    elif n==0:\n",
        "        return 0\n",
        "    elif n==1:\n",
        "        return 1\n",
        "    else:\n",
        "        return fibo(n-1)+fibo(n-2)\n",
        "a = np.zeros(5)\n",
        "b = np.zeros(5)\n",
        "a[0] = 1\n",
        "b[0] = 2\n",
        "N=0\n",
        "eps = 0.05\n",
        "while fibo(N) < ((1+2*eps)/uncert):\n",
        "  N=N+1\n",
        "\n",
        "N-=2\n",
        "print('i' ,'\\t' , 'rho[i]' ,2*'\\t', 'a[i]' , 2*'\\t' , 'fa' , 3*'\\t' , 'b[i]' , 3*'\\t' , 'fb')\n",
        "for i in range(1,N+1):\n",
        "  rho = 1-(fibo(N+1)/fibo(N+2))\n",
        "  if N==1:\n",
        "    a[i] = a[i-1] + (rho-eps)*(b[i-1] - a[i-1])\n",
        "    b[i] = a[i-1] + (1-rho-eps)*(b[i-1] - a[i-1])\n",
        "  else :\n",
        "    a[i] = a[i-1] + (rho)*(b[i-1] - a[i-1])\n",
        "    b[i] = a[i-1] + (1-rho)*(b[i-1] - a[i-1])\n",
        "    fa = f1(a[i-1])\n",
        "    fb = f1(b[i-1])\n",
        "    if fa < fb :\n",
        "      b[i-1] = b[i]\n",
        "      a[i] = a[i-1]\n",
        "    else :\n",
        "      b[i] = b[i-1]\n",
        "      a[i-1] = a[i]\n",
        "    N-=1\n",
        "  print(i , '\\t' , rho , '\\t' , a[i-1] , '\\t' , fa , '\\t' , b[i-1] , '\\t' , fb)\n",
        "\n",
        "print(f'travel : [{a[i-1]} , {b[i-1]}]')\n",
        "\n",
        "\n"
      ],
      "metadata": {
        "colab": {
          "base_uri": "https://localhost:8080/"
        },
        "id": "tpOiwQaDwkFG",
        "outputId": "b97fcbf5-e2d2-4789-f613-3d536c6db5c2"
      },
      "execution_count": 6,
      "outputs": [
        {
          "output_type": "stream",
          "name": "stdout",
          "text": [
            "i \t rho[i] \t\t a[i] \t\t fa \t\t\t b[i] \t\t\t fb\n",
            "1 \t 0.4 \t 1.4 \t 8.0 \t 2.0 \t 7.795065793291156\n",
            "2 \t 0.33333333333333337 \t 1.4 \t 7.717866024633604 \t 1.7999999999999998 \t 7.795065793291156\n",
            "3 \t 0.5 \t 1.4 \t 7.717866024633604 \t 1.7999999999999998 \t 7.795065793291156\n",
            "travel : [1.4 , 1.7999999999999998]\n"
          ]
        }
      ]
    },
    {
      "cell_type": "markdown",
      "source": [
        "Bisection"
      ],
      "metadata": {
        "id": "e15GjSLKiR4M"
      }
    },
    {
      "cell_type": "code",
      "source": [
        "rho = 0.5\n",
        "a = np.zeros(5)\n",
        "b = np.zeros(5)\n",
        "a[0] = 1\n",
        "b[0] = 2\n",
        "uncert = 0.23\n",
        "N=np.ceil(log(uncert/((b[0]-a[0])))/log(1-rho))\n",
        "print('i' ,'\\t', 'a[i]' , 2*'\\t' , 'fa' , '\\t' , 'b[i]' , 2*'\\t' , 'fb')\n",
        "\n",
        "for i in range(1,N+1):\n",
        "  a[i] = a[i-1] + rho*(b[i-1] - a[i-1])\n",
        "  b[i] = a[i-1] + (1-rho)*(b[i-1] - a[i-1])\n",
        "  fa = f1(a[i-1])\n",
        "  fb = f1(b[i-1])\n",
        "  if fa < fb :\n",
        "    b[i-1] = b[i]\n",
        "    a[i] = a[i-1]\n",
        "  else :\n",
        "    b[i] = b[i-1]\n",
        "    a[i-1] = a[i]\n",
        "\n",
        "  print(i , '\\t' , a[i-1] , '\\t' , fa , '\\t' , b[i-1] , '\\t' , fb)\n",
        "\n",
        "print(f'travel : [{a[i-1]} , {b[i-1]}]')\n"
      ],
      "metadata": {
        "colab": {
          "base_uri": "https://localhost:8080/"
        },
        "id": "bxasNUBZhJ-9",
        "outputId": "327e4f20-db5d-466d-b7d8-1e66e5230c8c"
      },
      "execution_count": 7,
      "outputs": [
        {
          "output_type": "stream",
          "name": "stdout",
          "text": [
            "i \t a[i] \t\t fa \t b[i] \t\t fb\n",
            "1 \t 1.5 \t 8.0 \t 2.0 \t 7.795065793291156\n",
            "2 \t 1.5 \t 7.690501034458218 \t 1.75 \t 7.795065793291156\n",
            "3 \t 1.5 \t 7.690501034458218 \t 1.625 \t 7.696242937476076\n",
            "travel : [1.5 , 1.625]\n"
          ]
        }
      ]
    },
    {
      "cell_type": "markdown",
      "source": [
        "Newton's method (example 7.4)"
      ],
      "metadata": {
        "id": "x_K9dNxtkEs7"
      }
    },
    {
      "cell_type": "code",
      "source": [
        "x = Symbol('x')\n",
        "g = (0.5*x**2)-sin(x)\n",
        "diff_g = diff(g , x)\n",
        "diff_g_2 = diff(g,x,2)\n",
        "g1 = lambdify(x,diff_g)\n",
        "g2 = lambdify(x,diff_g_2)\n",
        "x0 = 0.5\n",
        "eps = 10**(-5)\n",
        "x1 = x0 - (g1(x0)/g2(x0))\n",
        "i = 0\n",
        "while x1-x0 > eps:\n",
        "  x0 = x1\n",
        "  x1 = x0 - (g1(x0)/g2(x0))\n",
        "  i+=1\n",
        "\n",
        "print ('x1 : ' , x1)\n",
        "print ('diff(g):',g1(x1))\n",
        "print('diff(g,2) :',g2(x1))\n",
        "print('i :', i)"
      ],
      "metadata": {
        "colab": {
          "base_uri": "https://localhost:8080/"
        },
        "id": "ntwckjmfiFfH",
        "outputId": "a04f720a-2fc6-467e-ac58-dfbd0dc69cbe"
      },
      "execution_count": 8,
      "outputs": [
        {
          "output_type": "stream",
          "name": "stdout",
          "text": [
            "x1 :  0.7391416661498792\n",
            "diff(g): 9.461538061772412e-05\n",
            "diff(g,2) : 1.6736538107583572\n",
            "i : 1\n"
          ]
        }
      ]
    },
    {
      "cell_type": "markdown",
      "source": [
        " Secant Method"
      ],
      "metadata": {
        "id": "RJR7PMWUsE0w"
      }
    },
    {
      "cell_type": "code",
      "source": [
        "x = Symbol('x')\n",
        "h = (0.5*x**2)-sin(x)\n",
        "diff_h = diff(h , x)\n",
        "h1 = lambdify(x,diff_h)\n",
        "x0 = 0.5\n",
        "x1 = 1\n",
        "eps = 10**(-5)\n",
        "i =0\n",
        "while x1-x0 > eps:\n",
        "\n",
        "  x2 = x1 - (((x1-x0)*h1(x1))/(h1(x1)-h1(x0)))\n",
        "  x0 = x1\n",
        "  x1 = x2\n",
        "  i+=1"
      ],
      "metadata": {
        "id": "L9O7DyfdsIkQ"
      },
      "execution_count": 9,
      "outputs": []
    },
    {
      "cell_type": "code",
      "source": [
        "i"
      ],
      "metadata": {
        "id": "7_8eqxkhROng",
        "outputId": "e56f4006-a65b-42ba-8478-f2d921f38c57",
        "colab": {
          "base_uri": "https://localhost:8080/"
        }
      },
      "execution_count": 10,
      "outputs": [
        {
          "output_type": "execute_result",
          "data": {
            "text/plain": [
              "1"
            ]
          },
          "metadata": {},
          "execution_count": 10
        }
      ]
    },
    {
      "cell_type": "markdown",
      "source": [
        "Bracketing"
      ],
      "metadata": {
        "id": "0VOiW2hu7n4W"
      }
    },
    {
      "cell_type": "code",
      "source": [
        "x = Symbol('x')\n",
        "f = 8*exp(1-x)+7*log(x)\n",
        "f1=lambdify(x,f)\n",
        "a = 1\n",
        "b = 2\n",
        "N= 3\n",
        "\n",
        "for i in range(0,N):\n",
        "  c = (a+b)/2\n",
        "  fa = f1(a)\n",
        "  fb = f1(b)\n",
        "  fc = f1(c)\n",
        "  if fa>=fb and fb <=fc :\n",
        "    a , b = [a , c]\n",
        "  else:\n",
        "    a , b = [c , b]\n",
        "\n",
        "\n",
        "  print(f'travel : [{a} , {b}]')\n"
      ],
      "metadata": {
        "colab": {
          "base_uri": "https://localhost:8080/"
        },
        "id": "E-8JpLnb36XR",
        "outputId": "6816211f-21e6-46f1-a44c-4901d2405f5b"
      },
      "execution_count": 11,
      "outputs": [
        {
          "output_type": "stream",
          "name": "stdout",
          "text": [
            "travel : [1.5 , 2]\n",
            "travel : [1.75 , 2]\n",
            "travel : [1.875 , 2]\n"
          ]
        }
      ]
    }
  ]
}