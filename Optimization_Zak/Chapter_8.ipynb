{
  "nbformat": 4,
  "nbformat_minor": 0,
  "metadata": {
    "colab": {
      "provenance": []
    },
    "kernelspec": {
      "name": "python3",
      "display_name": "Python 3"
    },
    "language_info": {
      "name": "python"
    },
    "accelerator": "GPU",
    "gpuClass": "standard"
  },
  "cells": [
    {
      "cell_type": "code",
      "execution_count": 1,
      "metadata": {
        "id": "XTHTfhEt07Fm",
        "colab": {
          "base_uri": "https://localhost:8080/"
        },
        "outputId": "0440da9b-5cac-4878-f970-076355d941f5"
      },
      "outputs": [
        {
          "output_type": "stream",
          "name": "stderr",
          "text": [
            "<ipython-input-1-06c441bde91b>:4: DeprecationWarning: Please use `norm` from the `scipy.linalg` namespace, the `scipy.linalg.matfuncs` namespace is deprecated.\n",
            "  from scipy.linalg.matfuncs import norm\n"
          ]
        }
      ],
      "source": [
        "import numpy as np\n",
        "from sympy import *\n",
        "from scipy import optimize\n",
        "from scipy.linalg.matfuncs import norm\n",
        "from random import *\n",
        "import math"
      ]
    },
    {
      "cell_type": "markdown",
      "source": [
        "Example 8.1"
      ],
      "metadata": {
        "id": "bd9uFyQt1OW9"
      }
    },
    {
      "cell_type": "code",
      "source": [
        "x1 = Symbol('x1')\n",
        "x2 = Symbol('x2')\n",
        "x3 = Symbol('x3')\n",
        "alpha = Symbol('alpha')\n",
        "f = (x1-4)**4 +(x2-3)**2 + 4*(x3+5)**4\n",
        "f1 = lambdify([x1,x2,x3] , f)\n",
        "grad_f = [diff(f,x1) , diff(f,x2) , diff(f,x3)]\n",
        "grad_f1=lambdify([x1 , x2 , x3] , grad_f)\n",
        "x0 = Matrix([4 , 2 , -1])\n",
        "grad_fx0 = Matrix(grad_f1(x0[0], x0[1] , x0[2]))\n",
        "eps = 0.03\n",
        "i=0\n",
        "while norm(grad_fx0,1) > eps :\n",
        "  grad_fx0 = Matrix(grad_f1(x0[0], x0[1] , x0[2]))\n",
        "  a = Matrix(x0-alpha*grad_fx0)\n",
        "  f_alpha = f1(a[0], a[1], a[2])\n",
        "  f1_alpha = lambdify(alpha , f_alpha)\n",
        "  alpha0 = optimize.fmin(f1_alpha, 0.3)\n",
        "  alpha0 = alpha0[0]\n",
        "  x1 = x0 - alpha0 * grad_fx0\n",
        "  x0=x1\n",
        "  print(f'alpha0{[i]} : {alpha0}')\n",
        "  i+=1"
      ],
      "metadata": {
        "colab": {
          "base_uri": "https://localhost:8080/"
        },
        "id": "y1Gw7Uf4tSvm",
        "outputId": "740a8964-b517-41e2-aa1f-32c428871b95"
      },
      "execution_count": 2,
      "outputs": [
        {
          "output_type": "stream",
          "name": "stdout",
          "text": [
            "Optimization terminated successfully.\n",
            "         Current function value: 0.984290\n",
            "         Iterations: 16\n",
            "         Function evaluations: 32\n",
            "alpha0[0] : 0.003984374999999178\n",
            "Optimization terminated successfully.\n",
            "         Current function value: 0.000133\n",
            "         Iterations: 15\n",
            "         Function evaluations: 30\n",
            "alpha0[1] : 0.4999804687500001\n",
            "Optimization terminated successfully.\n",
            "         Current function value: 0.000001\n",
            "         Iterations: 26\n",
            "         Function evaluations: 52\n",
            "alpha0[2] : 9.438515624999999\n"
          ]
        }
      ]
    },
    {
      "cell_type": "code",
      "source": [
        "x1"
      ],
      "metadata": {
        "colab": {
          "base_uri": "https://localhost:8080/",
          "height": 78
        },
        "id": "sQ90msXUt460",
        "outputId": "9cf2c016-0e19-4215-b500-67d2a7af0e74"
      },
      "execution_count": 3,
      "outputs": [
        {
          "output_type": "execute_result",
          "data": {
            "text/plain": [
              "Matrix([\n",
              "[                4],\n",
              "[ 3.00069275678348],\n",
              "[-5.00986212953851]])"
            ],
            "text/latex": "$\\displaystyle \\left[\\begin{matrix}4\\\\3.00069275678348\\\\-5.00986212953851\\end{matrix}\\right]$"
          },
          "metadata": {},
          "execution_count": 3
        }
      ]
    },
    {
      "cell_type": "markdown",
      "source": [
        "Exercise 8.26"
      ],
      "metadata": {
        "id": "JxPT0E2k1ggE"
      }
    },
    {
      "cell_type": "code",
      "source": [
        "x1 = Symbol('x1')\n",
        "x2 = Symbol('x2')\n",
        "alpha = Symbol('alpha')\n",
        "f = 100*(x2-x1**2)**2+(1-x1)**2\n",
        "f1 = lambdify([x1,x2] , f)\n",
        "grad_f = [diff(f,x1) , diff(f,x2)]\n",
        "grad_f1=lambdify([x1 , x2 ] , grad_f)\n",
        "x0 = Matrix([-2, 2])\n",
        "grad_fx0 = Matrix(grad_f1(x0[0], x0[1]))\n",
        "eps = 10**(-4)\n",
        "i=0\n",
        "while norm(grad_fx0,1) > eps :\n",
        "  grad_fx0 = Matrix(grad_f1(x0[0], x0[1]))\n",
        "  a = Matrix(x0-alpha*grad_fx0)\n",
        "  f_alpha = f1(a[0], a[1])\n",
        "  f1_alpha = lambdify(alpha , f_alpha)\n",
        "  alpha0 = optimize.fmin(f1_alpha, 0, disp=False)\n",
        "  alpha0 = alpha0[0]\n",
        "  x1 = x0 - alpha0 * grad_fx0\n",
        "  x0=x1\n",
        "  # print(f'alpha0{[i]} : {alpha0}')\n",
        "  # print(\"x1 : \", x1)\n",
        "  i+=1\n",
        "\n",
        "print(\"optimal point : \", x1)"
      ],
      "metadata": {
        "colab": {
          "base_uri": "https://localhost:8080/"
        },
        "id": "ronJhh4ISiVY",
        "outputId": "3fc29e12-9c84-47ee-866e-d5d1973e8abf"
      },
      "execution_count": 6,
      "outputs": [
        {
          "output_type": "stream",
          "name": "stdout",
          "text": [
            "optimal point :  Matrix([[0.999925504125068], [0.999850904650561]])\n"
          ]
        }
      ]
    },
    {
      "cell_type": "markdown",
      "source": [
        "Example 8.2"
      ],
      "metadata": {
        "id": "EqemZQjN5MzV"
      }
    },
    {
      "cell_type": "code",
      "source": [
        "q = Matrix([[2 , 0],[0,2]])\n",
        "x0 = Matrix([1, 2])\n",
        "b = Matrix([0 , 0])\n",
        "g = q*x0-b\n",
        "eps = 0.001\n",
        "i=0\n",
        "while norm(g, 1) > eps:\n",
        "  a0 = (g.T)*g\n",
        "  b0 = (g.T)*q*g\n",
        "  alpha0 = a0[0]/b0[0]\n",
        "  x1 = x0-alpha0 * g\n",
        "  x0 = x1\n",
        "  g = q*x0-b\n",
        "  i+=1\n",
        "\n",
        "print ('iteration :', i)\n",
        "print ('optimal point :', x0)"
      ],
      "metadata": {
        "colab": {
          "base_uri": "https://localhost:8080/"
        },
        "id": "BbNZIIpd5TJY",
        "outputId": "2a4bcbf4-a853-4027-9d52-d01a9b34caa6"
      },
      "execution_count": null,
      "outputs": [
        {
          "output_type": "stream",
          "name": "stdout",
          "text": [
            "iteration : 1\n",
            "optimal point : Matrix([[0], [0]])\n"
          ]
        }
      ]
    },
    {
      "cell_type": "markdown",
      "source": [
        "Exercise 8.1"
      ],
      "metadata": {
        "id": "98UOz7mm1lHI"
      }
    },
    {
      "cell_type": "code",
      "source": [
        "import time\n",
        "start = time.time()\n",
        "q = Matrix([[1 , 0],[0,2]])\n",
        "x0 = Matrix([0, 0])\n",
        "b = Matrix([-1 , -1/2])\n",
        "g = q*x0-b\n",
        "eps = 0.03\n",
        "i=0\n",
        "while norm(g, 1) > eps:\n",
        "  a0 = (g.T)*g\n",
        "  b0 = (g.T)*q*g\n",
        "  alpha0 = a0[0]/b0[0]\n",
        "  x1 = x0-alpha0 * g\n",
        "  x0 = x1\n",
        "  g = q*x0-b\n",
        "  i+=1\n",
        "\n",
        "end = time.time()\n",
        "print ('iteration :', i)\n",
        "print ('optimal point :', x0)\n",
        "print('time : ', (end - start))"
      ],
      "metadata": {
        "colab": {
          "base_uri": "https://localhost:8080/"
        },
        "id": "fDwlDdNG_MkX",
        "outputId": "ed12e1a4-c459-474a-9b99-75ad2b724b24"
      },
      "execution_count": null,
      "outputs": [
        {
          "output_type": "stream",
          "name": "stdout",
          "text": [
            "iteration : 4\n",
            "optimal point : Matrix([[-0.994513031550069], [-0.248628257887517]])\n",
            "time :  0.007393598556518555\n"
          ]
        }
      ]
    },
    {
      "cell_type": "markdown",
      "source": [
        "Exercise 8.1 (constant alpha)"
      ],
      "metadata": {
        "id": "i6xSh4bm2ynM"
      }
    },
    {
      "cell_type": "code",
      "source": [
        "start = time.time()\n",
        "q = Matrix([[1 , 0],[0,2]])\n",
        "x0 = Matrix([0, 0])\n",
        "b = Matrix([-1 , -1/2])\n",
        "g = q*x0-b\n",
        "eps = 0.03\n",
        "i=0\n",
        "a = list(q.eigenvals())\n",
        "print(f'largest range of values of alpha : [{0 , 2/max(a)}]')\n",
        "alpha1 = 0.733257726822171\n",
        "print('alpha1 : ', alpha1)\n",
        "while norm(g, 1) > eps:\n",
        "  x1 = x0-alpha1 * g\n",
        "  x0 = x1\n",
        "  g = q*x0-b\n",
        "  i+=1\n",
        "\n",
        "end = time.time()\n",
        "print ('iteration :', i)\n",
        "print ('optimal point :',x0)\n",
        "print('time : ', (end - start))"
      ],
      "metadata": {
        "colab": {
          "base_uri": "https://localhost:8080/"
        },
        "id": "OooNI5MrZKZ5",
        "outputId": "b71000bf-2540-4284-a719-31b0f7b7f70a"
      },
      "execution_count": null,
      "outputs": [
        {
          "output_type": "stream",
          "name": "stdout",
          "text": [
            "largest range of values of alpha : [(0, 1)]\n",
            "alpha1 :  0.733257726822171\n",
            "iteration : 4\n",
            "optimal point : Matrix([[-0.994937472543225], [-0.238158570132254]])\n",
            "time :  0.0038216114044189453\n"
          ]
        }
      ]
    },
    {
      "cell_type": "code",
      "source": [
        "start = time.time()\n",
        "q = Matrix([[1 , 0],[0,2]])\n",
        "x0 = Matrix([0, 0])\n",
        "b = Matrix([-1 , -1/2])\n",
        "g = q*x0-b\n",
        "eps = 0.03\n",
        "i=0\n",
        "a = list(q.eigenvals())\n",
        "print(f'largest range of values of alpha : [{0 , 2/max(a)}]')\n",
        "alpha1 = uniform(0 , 2/max(a))\n",
        "print('alpha1 : ', alpha1)\n",
        "while norm(g, 1) > eps:\n",
        "  x1 = x0-alpha1 * g\n",
        "  x0 = x1\n",
        "  g = q*x0-b\n",
        "  i+=1\n",
        "\n",
        "end = time.time()\n",
        "print ('iteration :', i)\n",
        "print ('optimal point :',x0)\n",
        "print('time : ', (end - start))"
      ],
      "metadata": {
        "colab": {
          "base_uri": "https://localhost:8080/"
        },
        "id": "vC3NJJV0EWa0",
        "outputId": "e14f6e6f-37e9-44a8-9007-9a2e3ee42be6"
      },
      "execution_count": null,
      "outputs": [
        {
          "output_type": "stream",
          "name": "stdout",
          "text": [
            "largest range of values of alpha : [(0, 1)]\n",
            "alpha1 :  0.783065561448626\n",
            "iteration : 5\n",
            "optimal point : Matrix([[-0.999519556291294], [-0.264538686184120]])\n",
            "time :  0.004307746887207031\n"
          ]
        }
      ]
    },
    {
      "cell_type": "markdown",
      "source": [
        "Example 8.4"
      ],
      "metadata": {
        "id": "Z3QPg3H349Xo"
      }
    },
    {
      "cell_type": "code",
      "source": [
        "q = Matrix([[8 , 2*(math.sqrt(2))],[2*(math.sqrt(2)),10]])\n",
        "x0 = Matrix([0, 0])\n",
        "b = Matrix([-3 , -6])\n",
        "g = q*x0-b\n",
        "eps = 0.03\n",
        "i=0\n",
        "a = list(q.eigenvals())\n",
        "print(f'largest range of values of alpha : [{0 , 2/max(a)}]')\n",
        "alpha1 = uniform(0 , 2/max(a))\n",
        "print('alpha1 : ', alpha1)\n",
        "while norm(g, 1) > eps:\n",
        "  x1 = x0-alpha1 * g\n",
        "  x0 = x1\n",
        "  g = q*x0-b\n",
        "  i+=1\n",
        "print ('iteration :', i)\n",
        "print ('optimal point :',x0)"
      ],
      "metadata": {
        "colab": {
          "base_uri": "https://localhost:8080/"
        },
        "id": "ATqM38M7Eywg",
        "outputId": "5e4c00d4-00bb-4614-cbfb-471ab8a10c7e"
      },
      "execution_count": null,
      "outputs": [
        {
          "output_type": "stream",
          "name": "stdout",
          "text": [
            "largest range of values of alpha : [(0, 0.166666666666667)]\n",
            "alpha1 :  0.0424621099718628\n",
            "iteration : 14\n",
            "optimal point : Matrix([[-0.183199349938695], [-0.547203654964613]])\n"
          ]
        }
      ]
    },
    {
      "cell_type": "markdown",
      "source": [
        " Exercise 8.8"
      ],
      "metadata": {
        "id": "fqafcvUiBcK5"
      }
    },
    {
      "cell_type": "code",
      "source": [
        "q = Matrix([[6 , 4],[4, 6]])\n",
        "x0 = Matrix([0, 0])\n",
        "b = Matrix([-5 , -6])\n",
        "g = q*x0-b\n",
        "eps = 0.03\n",
        "i=0\n",
        "a = list(q.eigenvals())\n",
        "print(f'largest range of values of alpha : [{0 , 2/max(a)}]')\n",
        "alpha1 = uniform(0 , 2/max(a))\n",
        "print('alpha1 : ', alpha1)\n",
        "while norm(g, 1) > eps:\n",
        "  x1 = x0-alpha1 * g\n",
        "  x0 = x1\n",
        "  g = q*x0-b\n",
        "  i+=1\n",
        "print ('iteration :', i)\n",
        "print ('optimal point :',x0)"
      ],
      "metadata": {
        "colab": {
          "base_uri": "https://localhost:8080/"
        },
        "id": "FEP_STwA7ZXZ",
        "outputId": "a2c31fed-c697-4f6f-f9fe-5298dc7a176f"
      },
      "execution_count": null,
      "outputs": [
        {
          "output_type": "stream",
          "name": "stdout",
          "text": [
            "largest range of values of alpha : [(0, 1/5)]\n",
            "alpha1 :  0.0907374438056007\n",
            "iteration : 18\n",
            "optimal point : Matrix([[-0.306800113397188], [-0.793199886602812]])\n"
          ]
        }
      ]
    }
  ]
}